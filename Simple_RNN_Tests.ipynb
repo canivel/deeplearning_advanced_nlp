{
 "cells": [
  {
   "cell_type": "code",
   "execution_count": 1,
   "metadata": {},
   "outputs": [],
   "source": [
    "import tensorflow as tf\n",
    "import numpy as np\n",
    "import matplotlib.pyplot as plt"
   ]
  },
  {
   "cell_type": "code",
   "execution_count": 2,
   "metadata": {},
   "outputs": [],
   "source": [
    "T = 8 # sequence lenght\n",
    "D = 2 # input dimensionally\n",
    "M = 3 # hidden layer size"
   ]
  },
  {
   "cell_type": "code",
   "execution_count": 3,
   "metadata": {},
   "outputs": [
    {
     "data": {
      "text/plain": [
       "array([[[-0.00983864, -0.31823048],\n",
       "        [-0.03923597, -0.10422375],\n",
       "        [ 0.06553798, -0.91958912],\n",
       "        [-0.827663  , -0.02614867],\n",
       "        [ 1.14380037, -0.50513966],\n",
       "        [ 0.5080553 ,  0.75281749],\n",
       "        [ 1.05986019, -0.41528536],\n",
       "        [ 0.06617076,  0.76918914]]])"
      ]
     },
     "execution_count": 3,
     "metadata": {},
     "output_type": "execute_result"
    }
   ],
   "source": [
    "#input data\n",
    "X = np.random.randn(1, T, D)\n",
    "X"
   ]
  },
  {
   "cell_type": "code",
   "execution_count": 4,
   "metadata": {},
   "outputs": [
    {
     "data": {
      "text/plain": [
       "(1, 8, 2)"
      ]
     },
     "execution_count": 4,
     "metadata": {},
     "output_type": "execute_result"
    }
   ],
   "source": [
    "X.shape"
   ]
  },
  {
   "cell_type": "code",
   "execution_count": 5,
   "metadata": {},
   "outputs": [],
   "source": [
    "def lstm1():\n",
    "    input_ = tf.keras.layers.Input(shape=(T,D))\n",
    "    rnn = tf.keras.layers.LSTM(M, return_state=True)\n",
    "    x = rnn(input_)\n",
    "    \n",
    "    model = tf.keras.models.Model(inputs=input_, outputs=x)\n",
    "    output, hidden_state, cell_state = model.predict(X)\n",
    "    print(\"o:\", output)\n",
    "    print(\"h:\", hidden_state)\n",
    "    print(\"c:\", cell_state)"
   ]
  },
  {
   "cell_type": "code",
   "execution_count": 10,
   "metadata": {},
   "outputs": [
    {
     "name": "stdout",
     "output_type": "stream",
     "text": [
      "LSTM1\n",
      "WARNING:tensorflow:From /anaconda3/lib/python3.6/site-packages/tensorflow/python/ops/resource_variable_ops.py:435: colocate_with (from tensorflow.python.framework.ops) is deprecated and will be removed in a future version.\n",
      "Instructions for updating:\n",
      "Colocations handled automatically by placer.\n",
      "o: [[-0.02207665  0.07227381 -0.05333483]]\n",
      "h: [[-0.02207665  0.07227381 -0.05333483]]\n",
      "c: [[-0.05227917  0.15368944 -0.09363189]]\n"
     ]
    }
   ],
   "source": [
    "print(\"LSTM1\")\n",
    "lstm1()"
   ]
  },
  {
   "cell_type": "code",
   "execution_count": 6,
   "metadata": {},
   "outputs": [],
   "source": [
    "def lstm2():\n",
    "    input_ = tf.keras.layers.Input(shape=(T,D))\n",
    "    rnn = tf.keras.layers.LSTM(M, return_state=True, return_sequences=True)\n",
    "    x = rnn(input_)\n",
    "    \n",
    "    model = tf.keras.models.Model(inputs=input_, outputs=x)\n",
    "    output, hidden_state, cell_state = model.predict(X)\n",
    "    print(\"o:\", output)\n",
    "    print(\"h:\", hidden_state)\n",
    "    print(\"c:\", cell_state)"
   ]
  },
  {
   "cell_type": "code",
   "execution_count": 8,
   "metadata": {},
   "outputs": [],
   "source": [
    "def gru1():\n",
    "    input_ = tf.keras.layers.Input(shape=(T,D))\n",
    "    rnn = tf.keras.layers.GRU(M, return_state=True)\n",
    "    x = rnn(input_)\n",
    "    \n",
    "    model = tf.keras.models.Model(inputs=input_, outputs=x)\n",
    "    output, hidden_state = model.predict(X)\n",
    "    print(\"o:\", output)\n",
    "    print(\"h:\", hidden_state)"
   ]
  },
  {
   "cell_type": "code",
   "execution_count": 9,
   "metadata": {},
   "outputs": [],
   "source": [
    "def gru2():\n",
    "    input_ = tf.keras.layers.Input(shape=(T,D))\n",
    "    rnn = tf.keras.layers.GRU(M, return_state=True, return_sequences=True)\n",
    "    x = rnn(input_)\n",
    "    \n",
    "    model = tf.keras.models.Model(inputs=input_, outputs=x)\n",
    "    output, hidden_state = model.predict(X)\n",
    "    print(\"o:\", output)\n",
    "    print(\"h:\", hidden_state)"
   ]
  },
  {
   "cell_type": "code",
   "execution_count": 11,
   "metadata": {},
   "outputs": [
    {
     "name": "stdout",
     "output_type": "stream",
     "text": [
      "LSTM2\n",
      "o: [[[ 0.0473949  -0.0056427  -0.01469101]\n",
      "  [ 0.04244686 -0.00517191 -0.01969806]\n",
      "  [ 0.16462293 -0.02692981 -0.04223761]\n",
      "  [ 0.0279924   0.02729038 -0.12939805]\n",
      "  [ 0.15439743 -0.05863091 -0.01606023]\n",
      "  [ 0.09849679 -0.0546859   0.10537602]\n",
      "  [ 0.18044414 -0.1100691   0.19881822]\n",
      "  [ 0.08450843 -0.04698319  0.19325596]]]\n",
      "h: [[ 0.08450843 -0.04698319  0.19325596]]\n",
      "c: [[ 0.16808558 -0.09487283  0.39882183]]\n"
     ]
    }
   ],
   "source": [
    "print(\"LSTM2\")\n",
    "lstm2()"
   ]
  },
  {
   "cell_type": "code",
   "execution_count": 12,
   "metadata": {},
   "outputs": [
    {
     "name": "stdout",
     "output_type": "stream",
     "text": [
      "GRU1\n",
      "o: [[-0.00812505  0.09305971 -0.3293749 ]]\n",
      "h: [[-0.00812505  0.09305971 -0.3293749 ]]\n"
     ]
    }
   ],
   "source": [
    "print(\"GRU1\")\n",
    "gru1()"
   ]
  },
  {
   "cell_type": "code",
   "execution_count": 13,
   "metadata": {},
   "outputs": [
    {
     "name": "stdout",
     "output_type": "stream",
     "text": [
      "GRU2\n",
      "o: [[[ 0.10620001  0.07343073 -0.07598447]\n",
      "  [ 0.07762659  0.05406353 -0.06170877]\n",
      "  [ 0.33463904  0.2597465  -0.23737052]\n",
      "  [ 0.02310511  0.06621186 -0.2631722 ]\n",
      "  [ 0.2586371   0.33380324 -0.03090864]\n",
      "  [-0.04775038  0.06180787  0.15793678]\n",
      "  [ 0.18798494  0.20616788  0.1656268 ]\n",
      "  [-0.12405092 -0.05472395  0.22693232]]]\n",
      "h: [[-0.12405092 -0.05472395  0.22693232]]\n"
     ]
    }
   ],
   "source": [
    "print(\"GRU2\")\n",
    "gru2()"
   ]
  },
  {
   "cell_type": "code",
   "execution_count": null,
   "metadata": {},
   "outputs": [],
   "source": []
  }
 ],
 "metadata": {
  "kernelspec": {
   "display_name": "Python 3",
   "language": "python",
   "name": "python3"
  },
  "language_info": {
   "codemirror_mode": {
    "name": "ipython",
    "version": 3
   },
   "file_extension": ".py",
   "mimetype": "text/x-python",
   "name": "python",
   "nbconvert_exporter": "python",
   "pygments_lexer": "ipython3",
   "version": "3.6.8"
  }
 },
 "nbformat": 4,
 "nbformat_minor": 2
}
