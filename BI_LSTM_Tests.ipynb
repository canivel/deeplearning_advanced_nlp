{
 "cells": [
  {
   "cell_type": "code",
   "execution_count": 1,
   "metadata": {},
   "outputs": [],
   "source": [
    "import tensorflow as tf\n",
    "import numpy as np\n",
    "import matplotlib.pyplot as plt"
   ]
  },
  {
   "cell_type": "code",
   "execution_count": 2,
   "metadata": {},
   "outputs": [],
   "source": [
    "T = 8 # sequence lenght\n",
    "D = 2 # input dimensionally\n",
    "M = 3 # hidden layer size"
   ]
  },
  {
   "cell_type": "code",
   "execution_count": 3,
   "metadata": {},
   "outputs": [
    {
     "data": {
      "text/plain": [
       "array([[[-1.18082851,  0.40732997],\n",
       "        [ 0.14680742,  1.53717264],\n",
       "        [-0.26407982, -0.62986292],\n",
       "        [-1.30222923, -0.50712994],\n",
       "        [-2.01617221,  0.1073673 ],\n",
       "        [ 0.19981257, -1.98702364],\n",
       "        [-1.15257715,  0.15992982],\n",
       "        [-1.57507774,  0.85179082]]])"
      ]
     },
     "execution_count": 3,
     "metadata": {},
     "output_type": "execute_result"
    }
   ],
   "source": [
    "#input data\n",
    "X = np.random.randn(1, T, D)\n",
    "X"
   ]
  },
  {
   "cell_type": "code",
   "execution_count": 4,
   "metadata": {},
   "outputs": [
    {
     "data": {
      "text/plain": [
       "(1, 8, 2)"
      ]
     },
     "execution_count": 4,
     "metadata": {},
     "output_type": "execute_result"
    }
   ],
   "source": [
    "X.shape"
   ]
  },
  {
   "cell_type": "code",
   "execution_count": 5,
   "metadata": {},
   "outputs": [
    {
     "name": "stdout",
     "output_type": "stream",
     "text": [
      "WARNING:tensorflow:From /anaconda3/lib/python3.6/site-packages/tensorflow/python/ops/resource_variable_ops.py:435: colocate_with (from tensorflow.python.framework.ops) is deprecated and will be removed in a future version.\n",
      "Instructions for updating:\n",
      "Colocations handled automatically by placer.\n",
      "o: [[[ 0.09652016 -0.07449681 -0.02976548 -0.03063785 -0.14124487\n",
      "   -0.07674322]\n",
      "  [ 0.1136732  -0.12247064 -0.23127347 -0.0261564  -0.14574143\n",
      "   -0.12523346]\n",
      "  [ 0.060202   -0.0649299  -0.0732702   0.09284422 -0.01300815\n",
      "   -0.20956017]\n",
      "  [ 0.09886248 -0.07862388  0.0383592   0.10163892 -0.07019126\n",
      "   -0.16093665]\n",
      "  [ 0.1324806  -0.11654937  0.0572935   0.08256172 -0.06869558\n",
      "   -0.12874968]\n",
      "  [ 0.17695665 -0.08717234  0.1884299   0.14891955  0.00736089\n",
      "   -0.16150135]\n",
      "  [ 0.169493   -0.12864688  0.13758071  0.00886992 -0.1379359\n",
      "   -0.03925849]\n",
      "  [ 0.1919607  -0.18260862  0.03474339 -0.00446837 -0.10098254\n",
      "   -0.00500442]]]\n",
      "h1: [[ 0.1919607  -0.18260862  0.03474339]]\n",
      "c1: [[ 0.74497557 -0.42984623  0.09396282]]\n",
      "h2: [[-0.03063785 -0.14124487 -0.07674322]]\n",
      "c2: [[-0.06928666 -0.44328853 -0.18777195]]\n"
     ]
    }
   ],
   "source": [
    "\n",
    "input_ = tf.keras.layers.Input(shape=(T,D))\n",
    "rnn = tf.keras.layers.Bidirectional(\n",
    "    tf.keras.layers.LSTM(M, return_state=True, return_sequences=True))\n",
    "x = rnn(input_)\n",
    "\n",
    "model = tf.keras.models.Model(inputs=input_, outputs=x)\n",
    "output, hidden_state1, cell_state1, hidden_state2, cell_state2 = model.predict(X)\n",
    "print(\"o:\", output)\n",
    "print(\"h1:\", hidden_state1)\n",
    "print(\"c1:\", cell_state1)\n",
    "print(\"h2:\", hidden_state2)\n",
    "print(\"c2:\", cell_state2)"
   ]
  },
  {
   "cell_type": "code",
   "execution_count": 6,
   "metadata": {},
   "outputs": [
    {
     "data": {
      "text/plain": [
       "(1, 8, 6)"
      ]
     },
     "execution_count": 6,
     "metadata": {},
     "output_type": "execute_result"
    }
   ],
   "source": [
    "output.shape"
   ]
  },
  {
   "cell_type": "code",
   "execution_count": 7,
   "metadata": {},
   "outputs": [
    {
     "name": "stdout",
     "output_type": "stream",
     "text": [
      "o: [[ 0.31576622  0.21858262 -0.25863576 -0.18247603  0.16160937 -0.09602148]]\n",
      "h1: [[ 0.31576622  0.21858262 -0.25863576]]\n",
      "c1: [[ 0.5966953   0.5793551  -0.43208015]]\n",
      "h2: [[-0.18247603  0.16160937 -0.09602148]]\n",
      "c2: [[-0.5305902   0.3277254  -0.18201478]]\n"
     ]
    }
   ],
   "source": [
    "input_ = tf.keras.layers.Input(shape=(T,D))\n",
    "rnn = tf.keras.layers.Bidirectional(\n",
    "    tf.keras.layers.LSTM(M, return_state=True, return_sequences=False))\n",
    "x = rnn(input_)\n",
    "\n",
    "model = tf.keras.models.Model(inputs=input_, outputs=x)\n",
    "output, hidden_state1, cell_state1, hidden_state2, cell_state2 = model.predict(X)\n",
    "print(\"o:\", output)\n",
    "print(\"h1:\", hidden_state1)\n",
    "print(\"c1:\", cell_state1)\n",
    "print(\"h2:\", hidden_state2)\n",
    "print(\"c2:\", cell_state2)"
   ]
  },
  {
   "cell_type": "code",
   "execution_count": null,
   "metadata": {},
   "outputs": [],
   "source": []
  }
 ],
 "metadata": {
  "kernelspec": {
   "display_name": "Python 3",
   "language": "python",
   "name": "python3"
  },
  "language_info": {
   "codemirror_mode": {
    "name": "ipython",
    "version": 3
   },
   "file_extension": ".py",
   "mimetype": "text/x-python",
   "name": "python",
   "nbconvert_exporter": "python",
   "pygments_lexer": "ipython3",
   "version": "3.6.8"
  }
 },
 "nbformat": 4,
 "nbformat_minor": 2
}
