{
 "cells": [
  {
   "cell_type": "code",
   "execution_count": 1,
   "metadata": {},
   "outputs": [],
   "source": [
    "import os\n",
    "import sys\n",
    "import string\n",
    "import numpy as np\n",
    "import pandas as pd\n",
    "import matplotlib.pyplot as plt\n",
    "%matplotlib inline"
   ]
  },
  {
   "cell_type": "code",
   "execution_count": 2,
   "metadata": {},
   "outputs": [],
   "source": [
    "import tensorflow as tf\n",
    "from tensorflow.keras.models import Model\n",
    "from tensorflow.keras.layers import Dense, Embedding, Input, LSTM, GRU\n",
    "from tensorflow.keras.preprocessing.text import Tokenizer\n",
    "from tensorflow.keras.preprocessing.sequence import pad_sequences\n",
    "from tensorflow.keras.utils import to_categorical\n",
    "from tensorflow.keras.optimizers import Adam, SGD\n",
    "\n",
    "import tensorflow.keras.backend as K"
   ]
  },
  {
   "cell_type": "code",
   "execution_count": 7,
   "metadata": {},
   "outputs": [
    {
     "data": {
      "text/plain": [
       "1"
      ]
     },
     "execution_count": 7,
     "metadata": {},
     "output_type": "execute_result"
    }
   ],
   "source": [
    "from tensorflow.python.client import device_lib\n",
    "local_device_protos = device_lib.list_local_devices()\n",
    "gpus = [x.name for x in local_device_protos if x.device_type == 'GPU']\n",
    "len(gpus)"
   ]
  },
  {
   "cell_type": "code",
   "execution_count": 9,
   "metadata": {},
   "outputs": [
    {
     "name": "stdout",
     "output_type": "stream",
     "text": [
      "Use Cuda LSTM and GRU\n"
     ]
    }
   ],
   "source": [
    "if len(gpus) > 0:\n",
    "    print(\"Use Cuda LSTM and GRU\")\n",
    "    from tensorflow.keras.layers import CuDNNLSTM as LSTM\n",
    "    from tensorflow.keras.layers import CuDNNGRU as GRU"
   ]
  },
  {
   "cell_type": "code",
   "execution_count": 12,
   "metadata": {},
   "outputs": [],
   "source": [
    "# config\n",
    "BATCH_SIZE = 64  # Batch size for training.\n",
    "EPOCHS = 100  # Number of epochs to train for.\n",
    "LATENT_DIM = 256  # Latent dimensionality of the encoding space.\n",
    "NUM_SAMPLES = 10000  # Number of samples to train on.\n",
    "MAX_SEQUENCE_LENGTH = 100\n",
    "MAX_NUM_WORDS = 20000\n",
    "EMBEDDING_DIM = 100"
   ]
  },
  {
   "cell_type": "code",
   "execution_count": 13,
   "metadata": {},
   "outputs": [],
   "source": [
    "input_texts = [] # sentence in original language\n",
    "target_texts = [] # sentence in target language\n",
    "target_texts_inputs = [] # sentence in target language offset by 1 "
   ]
  },
  {
   "cell_type": "code",
   "execution_count": 15,
   "metadata": {},
   "outputs": [
    {
     "name": "stdout",
     "output_type": "stream",
     "text": [
      "num samples: 16395\n"
     ]
    }
   ],
   "source": [
    "# load in the data\n",
    "# download the data at: http://www.manythings.org/anki/\n",
    "t = 0\n",
    "for line in open('./data/translations/por.txt', encoding='utf8'):\n",
    "    # only keep a limited number of samples\n",
    "    t += 1\n",
    "    if t > NUM_SAMPLES:\n",
    "        break\n",
    "\n",
    "    # input and target are separated by tab\n",
    "    if '\\t' not in line:\n",
    "        continue\n",
    "\n",
    "    # split up the input and translation\n",
    "    input_text, translation = line.rstrip().split('\\t')\n",
    "\n",
    "    # make the target input and output\n",
    "    # recall we'll be using teacher forcing\n",
    "    target_text = translation + ' <eos>'\n",
    "    target_text_input = '<sos> ' + translation\n",
    "\n",
    "    input_texts.append(input_text)\n",
    "    target_texts.append(target_text)\n",
    "    target_texts_inputs.append(target_text_input)\n",
    "print(\"num samples:\", len(input_texts))"
   ]
  },
  {
   "cell_type": "code",
   "execution_count": 19,
   "metadata": {},
   "outputs": [
    {
     "name": "stdout",
     "output_type": "stream",
     "text": [
      "English Input:Go. - Target Portuguese:Vai. <eos> -  Target Input Portuguese:<sos> Vai.\n"
     ]
    }
   ],
   "source": [
    "print(f'English Input:{input_texts[0]} - Target Portuguese:{target_texts[0]} -  Target Input Portuguese:{target_texts_inputs[0]}')"
   ]
  },
  {
   "cell_type": "code",
   "execution_count": 21,
   "metadata": {},
   "outputs": [],
   "source": [
    "#tokenize the inputs\n",
    "tokenizer_inputs = Tokenizer(num_words=MAX_NUM_WORDS)\n",
    "tokenizer_inputs.fit_on_texts(input_texts)\n",
    "input_sequences = tokenizer_inputs.texts_to_sequences(input_texts)"
   ]
  },
  {
   "cell_type": "code",
   "execution_count": 24,
   "metadata": {},
   "outputs": [
    {
     "data": {
      "text/plain": [
       "[1, 574, 7, 164]"
      ]
     },
     "execution_count": 24,
     "metadata": {},
     "output_type": "execute_result"
    }
   ],
   "source": [
    "input_sequences[5000]"
   ]
  },
  {
   "cell_type": "code",
   "execution_count": 25,
   "metadata": {},
   "outputs": [
    {
     "name": "stdout",
     "output_type": "stream",
     "text": [
      "Found 2084 unique input tokens.\n"
     ]
    }
   ],
   "source": [
    "# get the word to index mapping for input language\n",
    "word2idx_inputs = tokenizer_inputs.word_index\n",
    "print('Found %s unique input tokens.' % len(word2idx_inputs))"
   ]
  },
  {
   "cell_type": "code",
   "execution_count": 26,
   "metadata": {},
   "outputs": [
    {
     "data": {
      "text/plain": [
       "5"
      ]
     },
     "execution_count": 26,
     "metadata": {},
     "output_type": "execute_result"
    }
   ],
   "source": [
    "# determine maximum length input sequence\n",
    "max_len_input = max(len(s) for s in input_sequences)\n",
    "max_len_input"
   ]
  },
  {
   "cell_type": "code",
   "execution_count": 28,
   "metadata": {},
   "outputs": [],
   "source": [
    "# tokenize the outputs\n",
    "# don't filter out special characters\n",
    "# otherwise <sos> and <eos> won't appear\n",
    "tokenizer_outputs = Tokenizer(num_words=MAX_NUM_WORDS, filters='')\n",
    "tokenizer_outputs.fit_on_texts(target_texts + target_texts_inputs) # inefficient, oh well\n",
    "target_sequences = tokenizer_outputs.texts_to_sequences(target_texts)\n",
    "target_sequences_inputs = tokenizer_outputs.texts_to_sequences(target_texts_inputs)"
   ]
  },
  {
   "cell_type": "code",
   "execution_count": 29,
   "metadata": {},
   "outputs": [
    {
     "data": {
      "text/plain": [
       "[2, 1023, 100]"
      ]
     },
     "execution_count": 29,
     "metadata": {},
     "output_type": "execute_result"
    }
   ],
   "source": [
    "target_sequences_inputs[5000]"
   ]
  },
  {
   "cell_type": "code",
   "execution_count": 30,
   "metadata": {},
   "outputs": [
    {
     "name": "stdout",
     "output_type": "stream",
     "text": [
      "Found 5479 unique output tokens.\n"
     ]
    }
   ],
   "source": [
    "# get the word to index mapping for output language\n",
    "word2idx_outputs = tokenizer_outputs.word_index\n",
    "print('Found %s unique output tokens.' % len(word2idx_outputs))"
   ]
  },
  {
   "cell_type": "code",
   "execution_count": 31,
   "metadata": {},
   "outputs": [],
   "source": [
    "# store number of output words for later\n",
    "# remember to add 1 since indexing starts at 1\n",
    "num_words_output = len(word2idx_outputs) + 1"
   ]
  },
  {
   "cell_type": "code",
   "execution_count": 32,
   "metadata": {},
   "outputs": [],
   "source": [
    "# determine maximum length output sequence\n",
    "max_len_target = max(len(s) for s in target_sequences)"
   ]
  },
  {
   "cell_type": "code",
   "execution_count": 33,
   "metadata": {},
   "outputs": [
    {
     "name": "stdout",
     "output_type": "stream",
     "text": [
      "encoder_inputs.shape: (16395, 5)\n",
      "encoder_inputs[0]: [ 0  0  0  0 22]\n"
     ]
    }
   ],
   "source": [
    "# pad the sequences\n",
    "encoder_inputs = pad_sequences(input_sequences, maxlen=max_len_input)\n",
    "print(\"encoder_inputs.shape:\", encoder_inputs.shape)\n",
    "print(\"encoder_inputs[0]:\", encoder_inputs[0])"
   ]
  },
  {
   "cell_type": "code",
   "execution_count": 34,
   "metadata": {},
   "outputs": [
    {
     "name": "stdout",
     "output_type": "stream",
     "text": [
      "decoder_inputs[0]: [   2 1241    0    0    0    0    0    0    0]\n",
      "decoder_inputs.shape: (16395, 9)\n"
     ]
    }
   ],
   "source": [
    "decoder_inputs = pad_sequences(target_sequences_inputs, maxlen=max_len_target, padding='post')\n",
    "print(\"decoder_inputs[0]:\", decoder_inputs[0])\n",
    "print(\"decoder_inputs.shape:\", decoder_inputs.shape)"
   ]
  },
  {
   "cell_type": "code",
   "execution_count": 35,
   "metadata": {},
   "outputs": [
    {
     "name": "stdout",
     "output_type": "stream",
     "text": [
      "decoder_targets[0]: [1241    1    0    0    0    0    0    0    0]\n",
      "decoder_targets.shape: (16395, 9)\n"
     ]
    }
   ],
   "source": [
    "decoder_targets = pad_sequences(target_sequences, maxlen=max_len_target, padding='post')\n",
    "print(\"decoder_targets[0]:\", decoder_targets[0])\n",
    "print(\"decoder_targets.shape:\", decoder_targets.shape)"
   ]
  },
  {
   "cell_type": "code",
   "execution_count": 38,
   "metadata": {},
   "outputs": [
    {
     "name": "stdout",
     "output_type": "stream",
     "text": [
      "Loading word vectors...\n",
      "Found 400000 word vectors.\n"
     ]
    }
   ],
   "source": [
    "# store all the pre-trained word vectors\n",
    "print('Loading word vectors...')\n",
    "word2vec = {}\n",
    "with open(os.path.join('./data/word2vec/glove.6B.%sd.txt' % EMBEDDING_DIM), encoding='utf8') as f:\n",
    "  # is just a space-separated text file in the format:\n",
    "  # word vec[0] vec[1] vec[2] ...\n",
    "    for line in f:\n",
    "        values = line.split()\n",
    "        word = values[0]\n",
    "        vec = np.asarray(values[1:], dtype='float32')\n",
    "        word2vec[word] = vec\n",
    "print('Found %s word vectors.' % len(word2vec))"
   ]
  },
  {
   "cell_type": "code",
   "execution_count": 39,
   "metadata": {},
   "outputs": [
    {
     "name": "stdout",
     "output_type": "stream",
     "text": [
      "Filling pre-trained embeddings...\n"
     ]
    }
   ],
   "source": [
    "# prepare embedding matrix\n",
    "print('Filling pre-trained embeddings...')\n",
    "num_words = min(MAX_NUM_WORDS, len(word2idx_inputs) + 1)\n",
    "embedding_matrix = np.zeros((num_words, EMBEDDING_DIM))\n",
    "for word, i in word2idx_inputs.items():\n",
    "    if i < MAX_NUM_WORDS:\n",
    "        embedding_vector = word2vec.get(word)\n",
    "        if embedding_vector is not None:\n",
    "            # words not found in embedding index will be all zeros.\n",
    "            embedding_matrix[i] = embedding_vector"
   ]
  },
  {
   "cell_type": "code",
   "execution_count": 40,
   "metadata": {},
   "outputs": [],
   "source": [
    "# create embedding layer\n",
    "embedding_layer = Embedding(\n",
    "  num_words,\n",
    "  EMBEDDING_DIM,\n",
    "  weights=[embedding_matrix],\n",
    "  input_length=max_len_input,\n",
    "  # trainable=True\n",
    ")"
   ]
  },
  {
   "cell_type": "code",
   "execution_count": 41,
   "metadata": {},
   "outputs": [],
   "source": [
    "# create targets, since we cannot use sparse\n",
    "# categorical cross entropy when we have sequences\n",
    "decoder_targets_one_hot = np.zeros(\n",
    "  (\n",
    "    len(input_texts),\n",
    "    max_len_target,\n",
    "    num_words_output\n",
    "  ),\n",
    "  dtype='float32'\n",
    ")"
   ]
  },
  {
   "cell_type": "code",
   "execution_count": 42,
   "metadata": {},
   "outputs": [],
   "source": [
    "# assign the values\n",
    "for i, d in enumerate(decoder_targets):\n",
    "    for t, word in enumerate(d):\n",
    "        decoder_targets_one_hot[i, t, word] = 1"
   ]
  },
  {
   "cell_type": "code",
   "execution_count": 43,
   "metadata": {},
   "outputs": [
    {
     "name": "stdout",
     "output_type": "stream",
     "text": [
      "WARNING:tensorflow:From C:\\Anaconda3\\lib\\site-packages\\tensorflow\\python\\ops\\resource_variable_ops.py:435: colocate_with (from tensorflow.python.framework.ops) is deprecated and will be removed in a future version.\n",
      "Instructions for updating:\n",
      "Colocations handled automatically by placer.\n"
     ]
    }
   ],
   "source": [
    "##### build the model #####\n",
    "encoder_inputs_placeholder = Input(shape=(max_len_input,))\n",
    "x = embedding_layer(encoder_inputs_placeholder)\n",
    "encoder = LSTM(\n",
    "  LATENT_DIM,\n",
    "  return_state=True,\n",
    "  # dropout=0.5 # dropout not available on gpu\n",
    ")\n",
    "encoder_outputs, h, c = encoder(x)\n",
    "# encoder_outputs, h = encoder(x) #gru\n",
    "\n",
    "# keep only the states to pass into decoder\n",
    "encoder_states = [h, c]\n",
    "# encoder_states = [state_h] # gru\n",
    "\n",
    "# Set up the decoder, using [h, c] as initial state.\n",
    "decoder_inputs_placeholder = Input(shape=(max_len_target,))\n",
    "\n",
    "# this word embedding will not use pre-trained vectors\n",
    "# although you could\n",
    "decoder_embedding = Embedding(num_words_output, LATENT_DIM)\n",
    "decoder_inputs_x = decoder_embedding(decoder_inputs_placeholder)\n",
    "\n",
    "# since the decoder is a \"to-many\" model we want to have\n",
    "# return_sequences=True\n",
    "decoder_lstm = LSTM(\n",
    "  LATENT_DIM,\n",
    "  return_sequences=True,\n",
    "  return_state=True,\n",
    "  # dropout=0.5 # dropout not available on gpu\n",
    ")\n",
    "decoder_outputs, _, _ = decoder_lstm(\n",
    "  decoder_inputs_x,\n",
    "  initial_state=encoder_states\n",
    ")\n",
    "\n",
    "# decoder_outputs, _ = decoder_gru(\n",
    "#   decoder_inputs_x,\n",
    "#   initial_state=encoder_states\n",
    "# )\n",
    "\n",
    "# final dense layer for predictions\n",
    "decoder_dense = Dense(num_words_output, activation='softmax')\n",
    "decoder_outputs = decoder_dense(decoder_outputs)\n",
    "\n",
    "# Create the model object\n",
    "model = Model([encoder_inputs_placeholder, decoder_inputs_placeholder], decoder_outputs)\n",
    "\n",
    "# Compile the model and train it\n",
    "model.compile(\n",
    "  optimizer='rmsprop',\n",
    "  loss='categorical_crossentropy',\n",
    "  metrics=['accuracy']\n",
    ")"
   ]
  },
  {
   "cell_type": "code",
   "execution_count": 44,
   "metadata": {},
   "outputs": [
    {
     "name": "stdout",
     "output_type": "stream",
     "text": [
      "Train on 13116 samples, validate on 3279 samples\n",
      "WARNING:tensorflow:From C:\\Anaconda3\\lib\\site-packages\\tensorflow\\python\\ops\\math_ops.py:3066: to_int32 (from tensorflow.python.ops.math_ops) is deprecated and will be removed in a future version.\n",
      "Instructions for updating:\n",
      "Use tf.cast instead.\n",
      "WARNING:tensorflow:From C:\\Anaconda3\\lib\\site-packages\\tensorflow\\python\\ops\\math_grad.py:102: div (from tensorflow.python.ops.math_ops) is deprecated and will be removed in a future version.\n",
      "Instructions for updating:\n",
      "Deprecated in favor of operator or tf.math.divide.\n",
      "Epoch 1/100\n",
      "13116/13116 [==============================] - 7s 566us/sample - loss: 2.2337 - acc: 0.6912 - val_loss: 2.3901 - val_acc: 0.6652\n",
      "Epoch 2/100\n",
      "13116/13116 [==============================] - 4s 329us/sample - loss: 1.6150 - acc: 0.7509 - val_loss: 2.1304 - val_acc: 0.7020\n",
      "Epoch 3/100\n",
      "13116/13116 [==============================] - 4s 331us/sample - loss: 1.3712 - acc: 0.7755 - val_loss: 1.9692 - val_acc: 0.7175\n",
      "Epoch 4/100\n",
      "13116/13116 [==============================] - 4s 334us/sample - loss: 1.2038 - acc: 0.7938 - val_loss: 1.9183 - val_acc: 0.7332\n",
      "Epoch 5/100\n",
      "13116/13116 [==============================] - 4s 335us/sample - loss: 1.0729 - acc: 0.8095 - val_loss: 1.8988 - val_acc: 0.7425\n",
      "Epoch 6/100\n",
      "13116/13116 [==============================] - 4s 338us/sample - loss: 0.9632 - acc: 0.8226 - val_loss: 1.8896 - val_acc: 0.7423\n",
      "Epoch 7/100\n",
      "13116/13116 [==============================] - 4s 333us/sample - loss: 0.8718 - acc: 0.8353 - val_loss: 1.8393 - val_acc: 0.7398\n",
      "Epoch 8/100\n",
      "13116/13116 [==============================] - 4s 329us/sample - loss: 0.7892 - acc: 0.8477 - val_loss: 1.8606 - val_acc: 0.7321\n",
      "Epoch 9/100\n",
      "13116/13116 [==============================] - 4s 330us/sample - loss: 0.7203 - acc: 0.8578 - val_loss: 1.8588 - val_acc: 0.7452\n",
      "Epoch 10/100\n",
      "13116/13116 [==============================] - 4s 328us/sample - loss: 0.6635 - acc: 0.8672 - val_loss: 1.8722 - val_acc: 0.7402\n",
      "Epoch 11/100\n",
      "13116/13116 [==============================] - 4s 328us/sample - loss: 0.6140 - acc: 0.8742 - val_loss: 1.8837 - val_acc: 0.7363\n",
      "Epoch 12/100\n",
      "13116/13116 [==============================] - 4s 329us/sample - loss: 0.5714 - acc: 0.8804 - val_loss: 1.9026 - val_acc: 0.7351\n",
      "Epoch 13/100\n",
      "13116/13116 [==============================] - 4s 331us/sample - loss: 0.5349 - acc: 0.8862 - val_loss: 1.9457 - val_acc: 0.7395\n",
      "Epoch 14/100\n",
      "13116/13116 [==============================] - 4s 338us/sample - loss: 0.5001 - acc: 0.8909 - val_loss: 1.9573 - val_acc: 0.7271\n",
      "Epoch 15/100\n",
      "13116/13116 [==============================] - 4s 335us/sample - loss: 0.4666 - acc: 0.8951 - val_loss: 1.9833 - val_acc: 0.7315\n",
      "Epoch 16/100\n",
      "13116/13116 [==============================] - 5s 353us/sample - loss: 0.4391 - acc: 0.8977 - val_loss: 1.9949 - val_acc: 0.7322\n",
      "Epoch 17/100\n",
      "13116/13116 [==============================] - 4s 331us/sample - loss: 0.4193 - acc: 0.9004 - val_loss: 2.0128 - val_acc: 0.7334\n",
      "Epoch 18/100\n",
      "13116/13116 [==============================] - 4s 336us/sample - loss: 0.4010 - acc: 0.9033 - val_loss: 2.0491 - val_acc: 0.7267\n",
      "Epoch 19/100\n",
      "13116/13116 [==============================] - 4s 328us/sample - loss: 0.3841 - acc: 0.9056 - val_loss: 2.0286 - val_acc: 0.7315\n",
      "Epoch 20/100\n",
      "13116/13116 [==============================] - 4s 328us/sample - loss: 0.3712 - acc: 0.9080 - val_loss: 2.0466 - val_acc: 0.7220\n",
      "Epoch 21/100\n",
      "13116/13116 [==============================] - 4s 328us/sample - loss: 0.3581 - acc: 0.9097 - val_loss: 2.0540 - val_acc: 0.7302\n",
      "Epoch 22/100\n",
      "13116/13116 [==============================] - 4s 331us/sample - loss: 0.3474 - acc: 0.9119 - val_loss: 2.0764 - val_acc: 0.7355\n",
      "Epoch 23/100\n",
      "13116/13116 [==============================] - 4s 328us/sample - loss: 0.3372 - acc: 0.9122 - val_loss: 2.0793 - val_acc: 0.7308\n",
      "Epoch 24/100\n",
      "13116/13116 [==============================] - 4s 328us/sample - loss: 0.3275 - acc: 0.9143 - val_loss: 2.1026 - val_acc: 0.7244\n",
      "Epoch 25/100\n",
      "13116/13116 [==============================] - 4s 329us/sample - loss: 0.3190 - acc: 0.9148 - val_loss: 2.1102 - val_acc: 0.7227\n",
      "Epoch 26/100\n",
      "13116/13116 [==============================] - 4s 329us/sample - loss: 0.3110 - acc: 0.9157 - val_loss: 2.1047 - val_acc: 0.7232\n",
      "Epoch 27/100\n",
      "13116/13116 [==============================] - 4s 332us/sample - loss: 0.3045 - acc: 0.9168 - val_loss: 2.1277 - val_acc: 0.7263\n",
      "Epoch 28/100\n",
      "13116/13116 [==============================] - 4s 333us/sample - loss: 0.2982 - acc: 0.9178 - val_loss: 2.1286 - val_acc: 0.7307\n",
      "Epoch 29/100\n",
      "13116/13116 [==============================] - 4s 331us/sample - loss: 0.2908 - acc: 0.9183 - val_loss: 2.1539 - val_acc: 0.7254\n",
      "Epoch 30/100\n",
      "13116/13116 [==============================] - 4s 330us/sample - loss: 0.2833 - acc: 0.9199 - val_loss: 2.1615 - val_acc: 0.7266\n",
      "Epoch 31/100\n",
      "13116/13116 [==============================] - 4s 330us/sample - loss: 0.2778 - acc: 0.9196 - val_loss: 2.1674 - val_acc: 0.7221\n",
      "Epoch 32/100\n",
      "13116/13116 [==============================] - 4s 329us/sample - loss: 0.2707 - acc: 0.9209 - val_loss: 2.1632 - val_acc: 0.7303\n",
      "Epoch 33/100\n",
      "13116/13116 [==============================] - 4s 329us/sample - loss: 0.2649 - acc: 0.9210 - val_loss: 2.1600 - val_acc: 0.7309\n",
      "Epoch 34/100\n",
      "13116/13116 [==============================] - 4s 328us/sample - loss: 0.2611 - acc: 0.9213 - val_loss: 2.1914 - val_acc: 0.7252\n",
      "Epoch 35/100\n",
      "13116/13116 [==============================] - 4s 329us/sample - loss: 0.2565 - acc: 0.9217 - val_loss: 2.1979 - val_acc: 0.7199\n",
      "Epoch 36/100\n",
      "13116/13116 [==============================] - 4s 329us/sample - loss: 0.2526 - acc: 0.9232 - val_loss: 2.2013 - val_acc: 0.7238\n",
      "Epoch 37/100\n",
      "13116/13116 [==============================] - 4s 329us/sample - loss: 0.2498 - acc: 0.9220 - val_loss: 2.2172 - val_acc: 0.7260\n",
      "Epoch 38/100\n",
      "13116/13116 [==============================] - 4s 328us/sample - loss: 0.2463 - acc: 0.9223 - val_loss: 2.2269 - val_acc: 0.7239\n",
      "Epoch 39/100\n",
      "13116/13116 [==============================] - 4s 328us/sample - loss: 0.2442 - acc: 0.9228 - val_loss: 2.2394 - val_acc: 0.7218\n",
      "Epoch 40/100\n",
      "13116/13116 [==============================] - 4s 329us/sample - loss: 0.2414 - acc: 0.9227 - val_loss: 2.2614 - val_acc: 0.7210\n",
      "Epoch 41/100\n",
      "13116/13116 [==============================] - 4s 338us/sample - loss: 0.2391 - acc: 0.9227 - val_loss: 2.2420 - val_acc: 0.7265\n",
      "Epoch 42/100\n",
      "13116/13116 [==============================] - 4s 333us/sample - loss: 0.2356 - acc: 0.9227 - val_loss: 2.2595 - val_acc: 0.7228\n",
      "Epoch 43/100\n",
      "13116/13116 [==============================] - 4s 332us/sample - loss: 0.2347 - acc: 0.9222 - val_loss: 2.2547 - val_acc: 0.7236\n",
      "Epoch 44/100\n",
      "13116/13116 [==============================] - 4s 342us/sample - loss: 0.2321 - acc: 0.9237 - val_loss: 2.2769 - val_acc: 0.7237\n",
      "Epoch 45/100\n",
      "13116/13116 [==============================] - 5s 344us/sample - loss: 0.2308 - acc: 0.9231 - val_loss: 2.2800 - val_acc: 0.7251\n",
      "Epoch 46/100\n",
      "13116/13116 [==============================] - 4s 337us/sample - loss: 0.2303 - acc: 0.9228 - val_loss: 2.2930 - val_acc: 0.7251\n",
      "Epoch 47/100\n",
      "13116/13116 [==============================] - 4s 334us/sample - loss: 0.2287 - acc: 0.9236 - val_loss: 2.2987 - val_acc: 0.7241\n",
      "Epoch 48/100\n",
      "13116/13116 [==============================] - 4s 335us/sample - loss: 0.2277 - acc: 0.9225 - val_loss: 2.3028 - val_acc: 0.7139\n",
      "Epoch 49/100\n",
      "13116/13116 [==============================] - 4s 334us/sample - loss: 0.2267 - acc: 0.9232 - val_loss: 2.3263 - val_acc: 0.7214\n",
      "Epoch 50/100\n",
      "13116/13116 [==============================] - 4s 334us/sample - loss: 0.2263 - acc: 0.9222 - val_loss: 2.3132 - val_acc: 0.7258\n",
      "Epoch 51/100\n",
      "13116/13116 [==============================] - 4s 333us/sample - loss: 0.2245 - acc: 0.9230 - val_loss: 2.3364 - val_acc: 0.7222\n",
      "Epoch 52/100\n",
      "13116/13116 [==============================] - 4s 332us/sample - loss: 0.2234 - acc: 0.9230 - val_loss: 2.3480 - val_acc: 0.7246\n",
      "Epoch 53/100\n",
      "13116/13116 [==============================] - 4s 332us/sample - loss: 0.2228 - acc: 0.9228 - val_loss: 2.3519 - val_acc: 0.7151\n",
      "Epoch 54/100\n",
      "13116/13116 [==============================] - 4s 332us/sample - loss: 0.2212 - acc: 0.9236 - val_loss: 2.3563 - val_acc: 0.7194\n"
     ]
    },
    {
     "name": "stdout",
     "output_type": "stream",
     "text": [
      "Epoch 55/100\n",
      "13116/13116 [==============================] - 4s 328us/sample - loss: 0.2204 - acc: 0.9227 - val_loss: 2.3752 - val_acc: 0.7191\n",
      "Epoch 56/100\n",
      "13116/13116 [==============================] - 4s 328us/sample - loss: 0.2201 - acc: 0.9234 - val_loss: 2.3680 - val_acc: 0.7216\n",
      "Epoch 57/100\n",
      "13116/13116 [==============================] - 4s 328us/sample - loss: 0.2190 - acc: 0.9231 - val_loss: 2.3766 - val_acc: 0.7169\n",
      "Epoch 58/100\n",
      "13116/13116 [==============================] - 4s 328us/sample - loss: 0.2180 - acc: 0.9233 - val_loss: 2.3766 - val_acc: 0.7187\n",
      "Epoch 59/100\n",
      "13116/13116 [==============================] - 4s 330us/sample - loss: 0.2174 - acc: 0.9236 - val_loss: 2.3861 - val_acc: 0.7176\n",
      "Epoch 60/100\n",
      "13116/13116 [==============================] - 5s 349us/sample - loss: 0.2169 - acc: 0.9230 - val_loss: 2.3966 - val_acc: 0.7198\n",
      "Epoch 61/100\n",
      "13116/13116 [==============================] - 5s 347us/sample - loss: 0.2158 - acc: 0.9244 - val_loss: 2.3976 - val_acc: 0.7216\n",
      "Epoch 62/100\n",
      "13116/13116 [==============================] - 4s 342us/sample - loss: 0.2149 - acc: 0.9233 - val_loss: 2.4088 - val_acc: 0.7217\n",
      "Epoch 63/100\n",
      "13116/13116 [==============================] - 4s 328us/sample - loss: 0.2151 - acc: 0.9234 - val_loss: 2.4086 - val_acc: 0.7240\n",
      "Epoch 64/100\n",
      "13116/13116 [==============================] - 4s 329us/sample - loss: 0.2148 - acc: 0.9236 - val_loss: 2.4249 - val_acc: 0.7233\n",
      "Epoch 65/100\n",
      "13116/13116 [==============================] - 4s 328us/sample - loss: 0.2147 - acc: 0.9235 - val_loss: 2.4326 - val_acc: 0.7139\n",
      "Epoch 66/100\n",
      "13116/13116 [==============================] - 4s 330us/sample - loss: 0.2143 - acc: 0.9245 - val_loss: 2.4354 - val_acc: 0.7212\n",
      "Epoch 67/100\n",
      "13116/13116 [==============================] - 4s 328us/sample - loss: 0.2138 - acc: 0.9238 - val_loss: 2.4376 - val_acc: 0.7208\n",
      "Epoch 68/100\n",
      "13116/13116 [==============================] - 4s 333us/sample - loss: 0.2139 - acc: 0.9242 - val_loss: 2.4265 - val_acc: 0.7230\n",
      "Epoch 69/100\n",
      "13116/13116 [==============================] - 4s 336us/sample - loss: 0.2135 - acc: 0.9240 - val_loss: 2.4265 - val_acc: 0.7240\n",
      "Epoch 70/100\n",
      "13116/13116 [==============================] - 4s 329us/sample - loss: 0.2145 - acc: 0.9232 - val_loss: 2.4407 - val_acc: 0.7190\n",
      "Epoch 71/100\n",
      "13116/13116 [==============================] - 4s 330us/sample - loss: 0.2143 - acc: 0.9242 - val_loss: 2.4363 - val_acc: 0.7192\n",
      "Epoch 72/100\n",
      "13116/13116 [==============================] - 4s 335us/sample - loss: 0.2143 - acc: 0.9233 - val_loss: 2.4423 - val_acc: 0.7193\n",
      "Epoch 73/100\n",
      "13116/13116 [==============================] - 4s 340us/sample - loss: 0.2147 - acc: 0.9236 - val_loss: 2.4551 - val_acc: 0.7214\n",
      "Epoch 74/100\n",
      "13116/13116 [==============================] - 4s 335us/sample - loss: 0.2138 - acc: 0.9240 - val_loss: 2.4459 - val_acc: 0.7221\n",
      "Epoch 75/100\n",
      "13116/13116 [==============================] - 4s 331us/sample - loss: 0.2142 - acc: 0.9239 - val_loss: 2.4534 - val_acc: 0.7224\n",
      "Epoch 76/100\n",
      "13116/13116 [==============================] - 4s 330us/sample - loss: 0.2141 - acc: 0.9240 - val_loss: 2.4656 - val_acc: 0.7204\n",
      "Epoch 77/100\n",
      "13116/13116 [==============================] - 4s 335us/sample - loss: 0.2144 - acc: 0.9239 - val_loss: 2.4609 - val_acc: 0.7154\n",
      "Epoch 78/100\n",
      "13116/13116 [==============================] - 4s 337us/sample - loss: 0.2136 - acc: 0.9239 - val_loss: 2.4560 - val_acc: 0.7203\n",
      "Epoch 79/100\n",
      "13116/13116 [==============================] - 4s 336us/sample - loss: 0.2138 - acc: 0.9236 - val_loss: 2.4599 - val_acc: 0.7222\n",
      "Epoch 80/100\n",
      "13116/13116 [==============================] - 4s 335us/sample - loss: 0.2140 - acc: 0.9239 - val_loss: 2.4714 - val_acc: 0.7205\n",
      "Epoch 81/100\n",
      "13116/13116 [==============================] - 4s 337us/sample - loss: 0.2143 - acc: 0.9241 - val_loss: 2.4693 - val_acc: 0.7215\n",
      "Epoch 82/100\n",
      "13116/13116 [==============================] - 5s 343us/sample - loss: 0.2136 - acc: 0.9240 - val_loss: 2.4718 - val_acc: 0.7164\n",
      "Epoch 83/100\n",
      "13116/13116 [==============================] - 5s 346us/sample - loss: 0.2134 - acc: 0.9246 - val_loss: 2.4754 - val_acc: 0.7233\n",
      "Epoch 84/100\n",
      "13116/13116 [==============================] - 4s 334us/sample - loss: 0.2129 - acc: 0.9237 - val_loss: 2.4743 - val_acc: 0.7183\n",
      "Epoch 85/100\n",
      "13116/13116 [==============================] - 4s 339us/sample - loss: 0.2130 - acc: 0.9241 - val_loss: 2.4735 - val_acc: 0.7175\n",
      "Epoch 86/100\n",
      "13116/13116 [==============================] - 4s 332us/sample - loss: 0.2131 - acc: 0.9235 - val_loss: 2.4853 - val_acc: 0.7233\n",
      "Epoch 87/100\n",
      "13116/13116 [==============================] - 4s 334us/sample - loss: 0.2118 - acc: 0.9240 - val_loss: 2.4873 - val_acc: 0.7212\n",
      "Epoch 88/100\n",
      "13116/13116 [==============================] - 4s 330us/sample - loss: 0.2122 - acc: 0.9239 - val_loss: 2.4859 - val_acc: 0.7225\n",
      "Epoch 89/100\n",
      "13116/13116 [==============================] - 4s 332us/sample - loss: 0.2117 - acc: 0.9233 - val_loss: 2.4873 - val_acc: 0.7152\n",
      "Epoch 90/100\n",
      "13116/13116 [==============================] - 4s 330us/sample - loss: 0.2111 - acc: 0.9241 - val_loss: 2.4845 - val_acc: 0.7162\n",
      "Epoch 91/100\n",
      "13116/13116 [==============================] - 4s 330us/sample - loss: 0.2106 - acc: 0.9239 - val_loss: 2.4929 - val_acc: 0.7222\n",
      "Epoch 92/100\n",
      "13116/13116 [==============================] - 4s 330us/sample - loss: 0.2104 - acc: 0.9242 - val_loss: 2.4964 - val_acc: 0.7240\n",
      "Epoch 93/100\n",
      "13116/13116 [==============================] - 4s 329us/sample - loss: 0.2100 - acc: 0.9244 - val_loss: 2.4987 - val_acc: 0.7223\n",
      "Epoch 94/100\n",
      "13116/13116 [==============================] - 4s 328us/sample - loss: 0.2099 - acc: 0.9239 - val_loss: 2.5071 - val_acc: 0.7166\n",
      "Epoch 95/100\n",
      "13116/13116 [==============================] - 4s 329us/sample - loss: 0.2091 - acc: 0.9239 - val_loss: 2.5029 - val_acc: 0.7192\n",
      "Epoch 96/100\n",
      "13116/13116 [==============================] - 4s 330us/sample - loss: 0.2084 - acc: 0.9238 - val_loss: 2.5066 - val_acc: 0.7212\n",
      "Epoch 97/100\n",
      "13116/13116 [==============================] - 4s 328us/sample - loss: 0.2082 - acc: 0.9239 - val_loss: 2.5147 - val_acc: 0.7158\n",
      "Epoch 98/100\n",
      "13116/13116 [==============================] - 4s 331us/sample - loss: 0.2081 - acc: 0.9244 - val_loss: 2.5051 - val_acc: 0.7196\n",
      "Epoch 99/100\n",
      "13116/13116 [==============================] - 4s 331us/sample - loss: 0.2077 - acc: 0.9240 - val_loss: 2.5064 - val_acc: 0.7161\n",
      "Epoch 100/100\n",
      "13116/13116 [==============================] - 4s 329us/sample - loss: 0.2073 - acc: 0.9243 - val_loss: 2.5129 - val_acc: 0.7133\n"
     ]
    }
   ],
   "source": [
    "r = model.fit(\n",
    "  [encoder_inputs, decoder_inputs], decoder_targets_one_hot,\n",
    "  batch_size=BATCH_SIZE,\n",
    "  epochs=EPOCHS,\n",
    "  validation_split=0.2,\n",
    ")\n",
    "model.save('./models/en_portuguese.h5')"
   ]
  },
  {
   "cell_type": "code",
   "execution_count": 45,
   "metadata": {},
   "outputs": [
    {
     "data": {
      "image/png": "[encoded data removed]",
      "text/plain": [
       "<Figure size 432x288 with 1 Axes>"
      ]
     },
     "metadata": {
      "needs_background": "light"
     },
     "output_type": "display_data"
    },
    {
     "data": {
      "image/png": "[encoded data removed]",
      "text/plain": [
       "<Figure size 432x288 with 1 Axes>"
      ]
     },
     "metadata": {
      "needs_background": "light"
     },
     "output_type": "display_data"
    }
   ],
   "source": [
    "# plot some data\n",
    "plt.plot(r.history['loss'], label='loss')\n",
    "plt.plot(r.history['val_loss'], label='val_loss')\n",
    "plt.legend()\n",
    "plt.show()\n",
    "\n",
    "# accuracies\n",
    "plt.plot(r.history['acc'], label='acc')\n",
    "plt.plot(r.history['val_acc'], label='val_acc')\n",
    "plt.legend()\n",
    "plt.show()"
   ]
  },
  {
   "cell_type": "code",
   "execution_count": 46,
   "metadata": {},
   "outputs": [],
   "source": [
    "##### Make predictions #####\n",
    "# As with the poetry example, we need to create another model\n",
    "# that can take in the RNN state and previous word as input\n",
    "# and accept a T=1 sequence.\n",
    "\n",
    "# The encoder will be stand-alone\n",
    "# From this we will get our initial decoder hidden state\n",
    "encoder_model = Model(encoder_inputs_placeholder, encoder_states)\n",
    "\n",
    "decoder_state_input_h = Input(shape=(LATENT_DIM,))\n",
    "decoder_state_input_c = Input(shape=(LATENT_DIM,))\n",
    "decoder_states_inputs = [decoder_state_input_h, decoder_state_input_c]\n",
    "# decoder_states_inputs = [decoder_state_input_h] # gru\n",
    "\n",
    "decoder_inputs_single = Input(shape=(1,))\n",
    "decoder_inputs_single_x = decoder_embedding(decoder_inputs_single)\n",
    "\n",
    "# this time, we want to keep the states too, to be output\n",
    "# by our sampling model\n",
    "decoder_outputs, h, c = decoder_lstm(\n",
    "  decoder_inputs_single_x,\n",
    "  initial_state=decoder_states_inputs\n",
    ")\n",
    "# decoder_outputs, state_h = decoder_lstm(\n",
    "#   decoder_inputs_single_x,\n",
    "#   initial_state=decoder_states_inputs\n",
    "# ) #gru\n",
    "decoder_states = [h, c]\n",
    "# decoder_states = [h] # gru\n",
    "decoder_outputs = decoder_dense(decoder_outputs)\n",
    "\n",
    "# The sampling model\n",
    "# inputs: y(t-1), h(t-1), c(t-1)\n",
    "# outputs: y(t), h(t), c(t)\n",
    "decoder_model = Model(\n",
    "  [decoder_inputs_single] + decoder_states_inputs, \n",
    "  [decoder_outputs] + decoder_states\n",
    ")\n",
    "\n",
    "# map indexes back into real words\n",
    "# so we can view the results\n",
    "idx2word_eng = {v:k for k, v in word2idx_inputs.items()}\n",
    "idx2word_trans = {v:k for k, v in word2idx_outputs.items()}"
   ]
  },
  {
   "cell_type": "code",
   "execution_count": 48,
   "metadata": {},
   "outputs": [],
   "source": [
    "def decode_sequence(input_seq):\n",
    "    # Encode the input as state vectors.\n",
    "    states_value = encoder_model.predict(input_seq)\n",
    "\n",
    "    # Generate empty target sequence of length 1.\n",
    "    target_seq = np.zeros((1, 1))\n",
    "\n",
    "    # Populate the first character of target sequence with the start character.\n",
    "    # NOTE: tokenizer lower-cases all words\n",
    "    target_seq[0, 0] = word2idx_outputs['<sos>']\n",
    "\n",
    "    # if we get this we break\n",
    "    eos = word2idx_outputs['<eos>']\n",
    "\n",
    "    # Create the translation\n",
    "    output_sentence = []\n",
    "    for _ in range(max_len_target):\n",
    "        output_tokens, h, c = decoder_model.predict(\n",
    "          [target_seq] + states_value\n",
    "        )\n",
    "        # output_tokens, h = decoder_model.predict(\n",
    "        #     [target_seq] + states_value\n",
    "        # ) # gru\n",
    "\n",
    "        # Get next word\n",
    "        idx = np.argmax(output_tokens[0, 0, :])\n",
    "\n",
    "        # End sentence of EOS\n",
    "        if eos == idx:\n",
    "            break\n",
    "\n",
    "        word = ''\n",
    "        if idx > 0:\n",
    "            word = idx2word_trans[idx]\n",
    "            output_sentence.append(word)\n",
    "\n",
    "        # Update the decoder input\n",
    "        # which is just the word just generated\n",
    "        target_seq[0, 0] = idx\n",
    "\n",
    "        # Update states\n",
    "        states_value = [h, c]\n",
    "        # states_value = [h] # gru\n",
    "\n",
    "    return ' '.join(output_sentence)"
   ]
  },
  {
   "cell_type": "code",
   "execution_count": null,
   "metadata": {},
   "outputs": [
    {
     "name": "stdout",
     "output_type": "stream",
     "text": [
      "-\n",
      "Input: I overslept.\n",
      "Translation: eu dormi demais.\n",
      "Continue? [Y/n]Thiago is almost done?\n",
      "-\n",
      "Input: You're small.\n",
      "Translation: tu ã©s pequeno.\n",
      "Continue? [Y/n]i\n",
      "-\n",
      "Input: It was cloudy.\n",
      "Translation: estava nublado.\n"
     ]
    }
   ],
   "source": [
    "while True:\n",
    "  # Do some test translations\n",
    "    i = np.random.choice(len(input_texts))\n",
    "    input_seq = encoder_inputs[i:i+1]\n",
    "    translation = decode_sequence(input_seq)\n",
    "    print('-')\n",
    "    print('Input:', input_texts[i])\n",
    "    print('Translation:', translation)\n",
    "\n",
    "    ans = input(\"Continue? [Y/n]\")\n",
    "    if ans and ans.lower().startswith('n'):\n",
    "        break\n"
   ]
  },
  {
   "cell_type": "code",
   "execution_count": null,
   "metadata": {},
   "outputs": [],
   "source": []
  }
 ],
 "metadata": {
  "kernelspec": {
   "display_name": "Python 3",
   "language": "python",
   "name": "python3"
  },
  "language_info": {
   "codemirror_mode": {
    "name": "ipython",
    "version": 3
   },
   "file_extension": ".py",
   "mimetype": "text/x-python",
   "name": "python",
   "nbconvert_exporter": "python",
   "pygments_lexer": "ipython3",
   "version": "3.7.0"
  }
 },
 "nbformat": 4,
 "nbformat_minor": 2
}
